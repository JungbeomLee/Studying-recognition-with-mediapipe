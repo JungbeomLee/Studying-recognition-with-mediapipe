{
 "cells": [
  {
   "cell_type": "code",
   "execution_count": 1,
   "id": "0d151ec4-2738-4985-bc77-40878780c88a",
   "metadata": {
    "slideshow": {
     "slide_type": ""
    },
    "tags": []
   },
   "outputs": [],
   "source": [
    "from IPython.display import clear_output \n",
    "import cv2\n",
    "import numpy as np\n",
    "import mediapipe as mp\n",
    "import time\n",
    "import math"
   ]
  },
  {
   "cell_type": "code",
   "execution_count": 2,
   "id": "dcf2a0f2-824f-468d-b776-2dbc207f3ba3",
   "metadata": {
    "slideshow": {
     "slide_type": ""
    },
    "tags": []
   },
   "outputs": [],
   "source": [
    "def pythagorean_theorem_dot_dist(coordinate_list):\n",
    "    dot_distance = math.sqrt((coordinate_list[0].x - coordinate_list[1].x)**2 + (coordinate_list[0].y - coordinate_list[1].y)**2 + (coordinate_list[0].z - coordinate_list[1].z)**2)\n",
    "    return dot_distance\n",
    "\n",
    "def hand_detection(video_path : str) :\n",
    "    mp_drawing = mp.solutions.drawing_utils\n",
    "    mp_drawing_styles = mp.solutions.drawing_styles\n",
    "    mp_hands = mp.solutions.hands\n",
    "    \n",
    "    cap = cv2.VideoCapture(0)\n",
    "    \n",
    "    middle_finger_mcp_list = []\n",
    "    \n",
    "    middle_finger_mcp = 0.015787780284881592\n",
    "    \n",
    "    with mp_hands.Hands(\n",
    "        model_complexity=0,\n",
    "        min_detection_confidence=0.5,\n",
    "        min_tracking_confidence=0.5) as hands:\n",
    "\n",
    "        no_detection_time = None  # 감지되지 않는 시간을 초기화\n",
    "        not_moved_time = None\n",
    "        previous_dot_distance = None\n",
    "        user_score = 100\n",
    "\n",
    "        while cap.isOpened():\n",
    "            success, image = cap.read()\n",
    "            if not success:\n",
    "                print(\"video is end.\")\n",
    "                break\n",
    "\n",
    "            image.flags.writeable = False\n",
    "            image = cv2.cvtColor(image, cv2.COLOR_BGR2RGB)\n",
    "            results = hands.process(image)\n",
    "\n",
    "            image.flags.writeable = True\n",
    "            image = cv2.cvtColor(image, cv2.COLOR_RGB2BGR)\n",
    "            if results.multi_hand_landmarks:\n",
    "                \n",
    "                middle_finger_mcp_list.append(results.multi_hand_landmarks[0].landmark[9])\n",
    "                \n",
    "                print(results.multi_hand_landmarks[0].landmark[9])\n",
    "                \n",
    "                # 손이 움직이지 않는지 판별하는 코드\n",
    "                if len(middle_finger_mcp_list) > 2 :\n",
    "                    dot_distance = pythagorean_theorem_dot_dist(middle_finger_mcp_list)\n",
    "                    if previous_dot_distance is not None:\n",
    "                        distance_change = abs(dot_distance - previous_dot_distance)\n",
    "                        if distance_change <= 0.03:\n",
    "                            print(distance_change)\n",
    "                            if not_moved_time is None :\n",
    "                                not_moved_time = time.time()\n",
    "                            elif time.time() - not_moved_time > 3 :\n",
    "                                if user_score > 0 :\n",
    "                                    user_score -= 2\n",
    "                                not_moved_time = None\n",
    "                        else : \n",
    "                            not_moved_time = None\n",
    "                            \n",
    "                    previous_dot_distance = dot_distance\n",
    "                    middle_finger_mcp_list.pop(1)\n",
    "                \n",
    "                for hand_landmarks in results.multi_hand_landmarks:    \n",
    "                    mp_drawing.draw_landmarks(\n",
    "                        image,\n",
    "                        hand_landmarks,\n",
    "                        mp_hands.HAND_CONNECTIONS,\n",
    "                        mp_drawing_styles.get_default_hand_landmarks_style(),\n",
    "                        mp_drawing_styles.get_default_hand_connections_style())\n",
    "                no_detection_time = None  # 손이 감지되면 감지되지 않는 시간을 초기화\n",
    "            else:\n",
    "                if no_detection_time is None:\n",
    "                    no_detection_time = time.time()  # 손이 감지되지 않는 시간을 기록 시작\n",
    "                elif time.time() - no_detection_time > 2 :  # 손이 감지되지 않는 시간이 5초 이상 지나면\n",
    "                    if user_score > 0 :\n",
    "                        user_score -= 2\n",
    "                    no_detection_time = None\n",
    "            clear_output(wait=True)\n",
    "            print(user_score)\n",
    "            \n",
    "            cv2.imshow('MediaPipe Hands', cv2.flip(image, 1))\n",
    "            if cv2.waitKey(5) & 0xFF == 27:\n",
    "                break\n",
    "\n",
    "        cap.release()\n",
    "        cv2.destroyAllWindows()"
   ]
  },
  {
   "cell_type": "code",
   "execution_count": 3,
   "id": "f5d0b072-0a1b-4ad1-b989-97bde8acb375",
   "metadata": {
    "scrolled": true
   },
   "outputs": [
    {
     "name": "stdout",
     "output_type": "stream",
     "text": [
      "100\n"
     ]
    }
   ],
   "source": [
    "hand_detection(\"video/hand2.mp4\")"
   ]
  },
  {
   "cell_type": "code",
   "execution_count": null,
   "id": "974d9832-df00-4975-ae78-86158b7cc035",
   "metadata": {},
   "outputs": [],
   "source": []
  },
  {
   "cell_type": "code",
   "execution_count": null,
   "id": "6f24dc3e-e9bf-4cc1-bb3c-99299ace00c6",
   "metadata": {},
   "outputs": [],
   "source": []
  }
 ],
 "metadata": {
  "kernelspec": {
   "display_name": "studie",
   "language": "python",
   "name": "studie"
  },
  "language_info": {
   "codemirror_mode": {
    "name": "ipython",
    "version": 3
   },
   "file_extension": ".py",
   "mimetype": "text/x-python",
   "name": "python",
   "nbconvert_exporter": "python",
   "pygments_lexer": "ipython3",
   "version": "3.10.10"
  }
 },
 "nbformat": 4,
 "nbformat_minor": 5
}
